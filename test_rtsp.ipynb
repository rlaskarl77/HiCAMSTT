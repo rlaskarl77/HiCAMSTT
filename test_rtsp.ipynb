{
 "cells": [
  {
   "cell_type": "code",
   "execution_count": 31,
   "metadata": {},
   "outputs": [
    {
     "data": {
      "text/plain": [
       "(True, 'rtsp_transport;udp')"
      ]
     },
     "execution_count": 31,
     "metadata": {},
     "output_type": "execute_result"
    }
   ],
   "source": [
    "import threading\n",
    "import time\n",
    "import numpy as np\n",
    "import cv2\n",
    "import re\n",
    "import os\n",
    "from PIL import Image\n",
    "\n",
    "sources = [\n",
    "    \"rtsp://210.99.70.120:1935/live/cctv007.stream\",\n",
    "    \"rtsp://210.99.70.120:1935/live/cctv008.stream\",\n",
    "    \"rtsp://210.99.70.120:1935/live/cctv009.stream\"\n",
    "]\n",
    "num_sources = len(sources)\n",
    "streams = [cv2.VideoCapture(s) for s in sources]\n",
    "fps = [stream.get(cv2.CAP_PROP_FPS) for stream in streams]\n",
    "fps = [f if f > 0 else 50 for f in fps]\n",
    "delays = [int(1000 / f) for f in fps]\n",
    "frames = [ max(int(cap.get(cv2.CAP_PROP_FRAME_COUNT)), 0) or float(\"inf\") \n",
    "          for cap in streams ]\n",
    "\n",
    "imgs = [[] for _ in range(num_sources)]\n",
    "shape = [[] for _ in range(num_sources)]\n",
    "\n",
    "vid_stride = 1\n",
    "buffer = True\n",
    "\n",
    "def update(i, cap, stream):\n",
    "    n, f = 0, frames[i]  # frame number, frame array\n",
    "    while cap.isOpened() and n < (f - 1):\n",
    "        if len(imgs[i]) < 30:  # keep a <=30-image buffer\n",
    "            n += 1\n",
    "            cap.grab()  # .read() = .grab() followed by .retrieve()\n",
    "            if n % vid_stride == 0:\n",
    "                success, im = cap.retrieve()\n",
    "                if not success:\n",
    "                    im = np.zeros(shape[i], dtype=np.uint8)\n",
    "                    print(\"WARNING ⚠️ Video stream unresponsive, please check your IP camera connection.\")\n",
    "                    cap.open(stream)  # re-open stream if signal was lost\n",
    "                if buffer:\n",
    "                    imgs[i].append(im)\n",
    "                else:\n",
    "                    imgs[i] = [im]\n",
    "        else:\n",
    "            time.sleep(0.01)  # wait until the buffer is empty\n",
    "    \n",
    "\n",
    "threads = [None] * num_sources\n",
    "\n",
    "for i, stream in enumerate(streams):\n",
    "    if not stream.isOpened():\n",
    "        raise ConnectionError(f\"Failed to open\")\n",
    "    w = int(stream.get(cv2.CAP_PROP_FRAME_WIDTH))\n",
    "    h = int(stream.get(cv2.CAP_PROP_FRAME_HEIGHT))\n",
    "    sp = (h, w, 3)\n",
    "    print(f\"shape: {sp}\")\n",
    "    shape.append(shape)\n",
    "    \n",
    "    threads[i] = threading.Thread(target=update, args=(i, stream, sources[i]), daemon=True)\n",
    "    threads[i].start()"
   ]
  },
  {
   "cell_type": "code",
   "execution_count": 34,
   "metadata": {},
   "outputs": [
    {
     "data": {
      "text/plain": [
       "(1920, 1080, 90000.0, inf)"
      ]
     },
     "execution_count": 34,
     "metadata": {},
     "output_type": "execute_result"
    }
   ],
   "source": [
    "def close():\n",
    "    for thread in threads:\n",
    "        if thread.is_alive():\n",
    "            thread.join(timeout=5)  # Add timeout\n",
    "    for cap in streams:  # Iterate through the stored VideoCapture objects\n",
    "        try:\n",
    "            cap.release()  # release video capture\n",
    "        except Exception as e:\n",
    "            print(f\"WARNING ⚠️ Could not release VideoCapture object: {e}\")\n",
    "    cv2.destroyAllWindows()\n",
    "\n",
    "def get_next():\n",
    "    images = []\n",
    "    for i, x in enumerate(imgs):\n",
    "        # Wait until a frame is available in each buffer\n",
    "        while not x:\n",
    "            if not threads[i].is_alive() or cv2.waitKey(1) == ord(\"q\"):  # q to quit\n",
    "                close()\n",
    "            time.sleep(1 / min(fps))\n",
    "            x = imgs[i]\n",
    "            if not x:\n",
    "                print(f\"WARNING ⚠️ Waiting for stream {i}\")\n",
    "\n",
    "        # Get and remove the first frame from imgs buffer\n",
    "        if buffer:\n",
    "            images.append(x.pop(0))\n",
    "\n",
    "        # Get the last frame, and clear the rest from the imgs buffer\n",
    "        else:\n",
    "            images.append(x.pop(-1) if x else np.zeros(shape[i], dtype=np.uint8))\n",
    "            x.clear()\n",
    "    \n",
    "    # reshape all images by 640 x 480\n",
    "    for i, img in enumerate(images):\n",
    "        images[i] = cv2.resize(img, (640, 480))\n",
    "    # concat\n",
    "    images = np.concatenate(images, axis=1)\n",
    "\n",
    "    return images"
   ]
  },
  {
   "cell_type": "code",
   "execution_count": 2,
   "metadata": {},
   "outputs": [],
   "source": [
    "while True:\n",
    "    images = get_next()\n",
    "    cv2.imshow(\"Multi-Stream\", images)\n",
    "    if cv2.waitKey(1) == ord(\"q\"):\n",
    "        break"
   ]
  }
 ],
 "metadata": {
  "kernelspec": {
   "display_name": "earlybird",
   "language": "python",
   "name": "python3"
  },
  "language_info": {
   "codemirror_mode": {
    "name": "ipython",
    "version": 3
   },
   "file_extension": ".py",
   "mimetype": "text/x-python",
   "name": "python",
   "nbconvert_exporter": "python",
   "pygments_lexer": "ipython3",
   "version": "3.10.13"
  }
 },
 "nbformat": 4,
 "nbformat_minor": 2
}
